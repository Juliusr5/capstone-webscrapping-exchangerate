{
 "cells": [
  {
   "cell_type": "markdown",
   "id": "bcb5e335",
   "metadata": {},
   "source": [
    "# Capstone Webscrapping using BeautifulSoup\n",
    "\n",
    "This notebook contains guidances & tasks on the data processing for the application\n",
    "\n",
    "## Background\n",
    "\n",
    "The exchange rate between two currencies is usually determined by each country's economic activity, market interest rates, gross domestic product and unemployment rate. Commonly referred to as market exchange rates, they are set in global financial markets where banks and other financial institutions trade currencies around the clock based on these factors. Rate changes can be made in small hourly or daily changes, or in large incremental shifts. In this project, we will try to visualize the movement of the Indonesian Rupiah (IDR) price toward US Dollars (USD).\n",
    "\n",
    "---\n",
    "Nilai tukar antara dua mata uang biasanya ditentukan oleh aktivitas ekonomi masing-masing negara, suku bunga pasar, produk domestik bruto, dan tingkat pengangguran. Biasanya disebut sebagai nilai tukar pasar, mereka ditetapkan di pasar keuangan global di mana bank dan lembaga keuangan lainnya memperdagangkan mata uang sepanjang waktu berdasarkan faktor-faktor ini. Perubahan tarif dapat dilakukan dalam perubahan kecil per jam atau harian, atau dalam perubahan bertahap yang besar. Dalam proyek ini, kami akan mencoba memvisualisasikan pergerakan harga Rupiah Indonesia (IDR) terhadap Dolar Amerika Serikat (USD).\n",
    "\n",
    "## Requesting the Data and Creating a BeautifulSoup\n",
    "\n",
    "Let's begin with requesting the web from the site with `get` method."
   ]
  },
  {
   "cell_type": "code",
   "execution_count": 2,
   "id": "f2f28011",
   "metadata": {},
   "outputs": [],
   "source": [
    "import requests\n",
    "\n",
    "url_get = requests.get('https://www.exchange-rates.org/history/IDR/USD/T')"
   ]
  },
  {
   "cell_type": "code",
   "execution_count": 3,
   "id": "6c37794d",
   "metadata": {},
   "outputs": [
    {
     "data": {
      "text/plain": [
       "b'!DOCTYPE html>\\r\\n<!--[if lt IE 9]>\\r\\n<html class=\"no-js ie8 oldie\" lang=\"en\" xml:lang=\\'en\\'>\\r\\n<![endif]-->\\r\\n<!--[if gt IE 8]><!--><html class=\"no-js\" lang=\"en\" xml:lang=\\'en\\'><!--<![endif]-->\\r\\n<head>\\r\\n<title>Indonesian Rupiah Exchange Rate - US Dollar - Historical Exchange Rates</title>\\r\\n<meta http-equiv=\"X-UA-Compatible\" content=\"IE=edge\">\\r\\n<meta name=\"viewport\" content=\"width=device-width, initial-scale=1, maximum-scale=5\">\\r\\n<meta charset=\"utf-8\" /><meta http-equiv=\"Content-Type\" content=\"text/ht'"
      ]
     },
     "execution_count": 3,
     "metadata": {},
     "output_type": "execute_result"
    }
   ],
   "source": [
    "url_get.content[1:500]"
   ]
  },
  {
   "cell_type": "markdown",
   "id": "40501e1b",
   "metadata": {},
   "source": [
    "As we can see we get a very unstructured and complex html, which actually contains the codes needed to show the webpages on your web browser. But we as human still confused what and where we can use that piece of code, so here where we use the beautifulsoup. Beautiful soup class will result a beautifulsoup object. Beautiful Soup transforms a complex HTML document into a complex tree of Python objects. \n",
    "\n",
    "Let's make Beautiful soup object and feel free to explore the object here."
   ]
  },
  {
   "cell_type": "code",
   "execution_count": 4,
   "id": "82c60742",
   "metadata": {},
   "outputs": [
    {
     "name": "stdout",
     "output_type": "stream",
     "text": [
      "!DOCTYPE html>\n",
      "<!--[if lt IE 9]>\r\n",
      "<html class=\"no-js ie8 oldie\" lang=\"en\" xml:lang='en'>\r\n",
      "<![endif]-->\n",
      "<!--[if gt IE 8]><!-->\n",
      "<html class=\"no-js\" lang=\"en\" xml:lang=\"en\">\n",
      " <!--<![endif]-->\n",
      " <head>\n",
      "  <title>\n",
      "   Indonesian Rupiah Exchange Rate - US Dollar - Historical Exchange Rates\n",
      "  </title>\n",
      "  <meta content=\"IE=edge\" http-equiv=\"X-UA-Compatible\"/>\n",
      "  <meta content=\"width=device-width, initial-scale=1, maximum-scale=5\" name=\"viewport\"/>\n",
      "  <meta charset=\"utf-8\">\n",
      "   <meta content=\"text/html; charse\n"
     ]
    }
   ],
   "source": [
    "from bs4 import BeautifulSoup \n",
    "\n",
    "soup = BeautifulSoup(url_get.content,\"html.parser\")\n",
    "\n",
    "#Menggunakan method prettify untuk memperbaiki tampilan HTML dan hanya menampilkan 500 karakter\n",
    "print(soup.prettify()[1:500])"
   ]
  },
  {
   "cell_type": "code",
   "execution_count": 37,
   "id": "ce66bd56",
   "metadata": {},
   "outputs": [
    {
     "name": "stdout",
     "output_type": "stream",
     "text": [
      "table class=\"table table-striped table-hover table-hover-solid-row table-simple history-data\">\n",
      " <tbody>\n",
      "  <tr>\n",
      "   <td>\n",
      "    1/6/2023\n",
      "   </td>\n",
      "   <td>\n",
      "    Friday\n",
      "   </td>\n",
      "   <td>\n",
      "    <a href=\"/Rate/USD/IDR/1-6-2023\">\n",
      "     15,607.20000\n",
      "    </a>\n",
      "    IDR\n",
      "   </td>\n",
      "   <td class=\"text-narrow-screen-hidden\">\n",
      "    <a href=\"/Rate/USD/IDR/1-6-2023\">\n",
      "     USD IDR rate for 1/6/2023\n",
      "    </a>\n",
      "   </td>\n",
      "  </tr>\n",
      "  <tr>\n",
      "   <td>\n",
      "    1/5/2023\n",
      "   </td>\n",
      "   <td>\n",
      "    Thursday\n",
      "   </td>\n",
      "   <td>\n",
      "    <a href=\"/Rate/USD/IDR/1\n"
     ]
    }
   ],
   "source": [
    "table = soup.find('table')\n",
    "print(table.prettify()[1:500])"
   ]
  },
  {
   "cell_type": "code",
   "execution_count": 6,
   "id": "05c1e7f1",
   "metadata": {},
   "outputs": [],
   "source": [
    "rows = []\n",
    "\n",
    "# Mencari semua baris di tabel (tr atau table row) dengan for loop\n",
    "data_rows = table.find_all('tr')\n",
    "\n",
    "for row in data_rows:\n",
    "    value = row.find_all('td')\n",
    "    beautified_value = [ele.text.strip() for ele in value]\n",
    "    # Remove data arrays that are empty\n",
    "    if len(beautified_value) == 0:\n",
    "        continue\n",
    "    rows.append(beautified_value)"
   ]
  },
  {
   "cell_type": "code",
   "execution_count": 7,
   "id": "a78b6dd0",
   "metadata": {},
   "outputs": [
    {
     "data": {
      "text/plain": [
       "[['1/5/2023', 'Thursday', '15,635.20000 IDR', 'USD IDR rate for 1/5/2023'],\n",
       " ['1/4/2023', 'Wednesday', '15,581.95000 IDR', 'USD IDR rate for 1/4/2023'],\n",
       " ['1/3/2023', 'Tuesday', '15,594.30000 IDR', 'USD IDR rate for 1/3/2023'],\n",
       " ['1/2/2023', 'Monday', '15,554.00000 IDR', 'USD IDR rate for 1/2/2023'],\n",
       " ['12/30/2022', 'Friday', '15,534.30000 IDR', 'USD IDR rate for 12/30/2022'],\n",
       " ['12/29/2022', 'Thursday', '15,626.50000 IDR', 'USD IDR rate for 12/29/2022'],\n",
       " ['12/28/2022',\n",
       "  'Wednesday',\n",
       "  '15,788.95000 IDR',\n",
       "  'USD IDR rate for 12/28/2022'],\n",
       " ['12/27/2022', 'Tuesday', '15,620.05955 IDR', 'USD IDR rate for 12/27/2022'],\n",
       " ['12/26/2022', 'Monday', '15,621.17514 IDR', 'USD IDR rate for 12/26/2022']]"
      ]
     },
     "execution_count": 7,
     "metadata": {},
     "output_type": "execute_result"
    }
   ],
   "source": [
    "rows[1:10]"
   ]
  },
  {
   "cell_type": "code",
   "execution_count": 8,
   "id": "d3bbf644",
   "metadata": {},
   "outputs": [],
   "source": [
    "#Menukar posisi atau urutan data (bagian bawah menjadi atas)\n",
    "rows = rows[::-1]"
   ]
  },
  {
   "cell_type": "code",
   "execution_count": 9,
   "id": "3c608e09",
   "metadata": {},
   "outputs": [
    {
     "data": {
      "text/plain": [
       "130"
      ]
     },
     "execution_count": 9,
     "metadata": {},
     "output_type": "execute_result"
    }
   ],
   "source": [
    "#Menghitung jumlah baris pada tabel\n",
    "len(data_rows)"
   ]
  },
  {
   "cell_type": "markdown",
   "id": "97280bf1",
   "metadata": {},
   "source": [
    "# Creating data frame & Data wrangling"
   ]
  },
  {
   "cell_type": "markdown",
   "id": "f6ddfa7c",
   "metadata": {},
   "source": [
    "Setelah dilakukan scraping, maka hasil scrap tersebut akan disimpan dalam sebuat dataframe dengan memberikan nama kolom sesuai dengan yang diinginkan"
   ]
  },
  {
   "cell_type": "code",
   "execution_count": 10,
   "id": "b7bbcbcd",
   "metadata": {},
   "outputs": [
    {
     "data": {
      "text/html": [
       "<div>\n",
       "<style scoped>\n",
       "    .dataframe tbody tr th:only-of-type {\n",
       "        vertical-align: middle;\n",
       "    }\n",
       "\n",
       "    .dataframe tbody tr th {\n",
       "        vertical-align: top;\n",
       "    }\n",
       "\n",
       "    .dataframe thead th {\n",
       "        text-align: right;\n",
       "    }\n",
       "</style>\n",
       "<table border=\"1\" class=\"dataframe\">\n",
       "  <thead>\n",
       "    <tr style=\"text-align: right;\">\n",
       "      <th></th>\n",
       "      <th>Tanggal</th>\n",
       "      <th>Hari</th>\n",
       "      <th>Harga_Harian</th>\n",
       "      <th>Keterangan</th>\n",
       "    </tr>\n",
       "  </thead>\n",
       "  <tbody>\n",
       "    <tr>\n",
       "      <th>0</th>\n",
       "      <td>7/11/2022</td>\n",
       "      <td>Monday</td>\n",
       "      <td>15,010.52059 IDR</td>\n",
       "      <td>USD IDR rate for 7/11/2022</td>\n",
       "    </tr>\n",
       "    <tr>\n",
       "      <th>1</th>\n",
       "      <td>7/12/2022</td>\n",
       "      <td>Tuesday</td>\n",
       "      <td>14,984.00000 IDR</td>\n",
       "      <td>USD IDR rate for 7/12/2022</td>\n",
       "    </tr>\n",
       "    <tr>\n",
       "      <th>2</th>\n",
       "      <td>7/13/2022</td>\n",
       "      <td>Wednesday</td>\n",
       "      <td>15,030.45000 IDR</td>\n",
       "      <td>USD IDR rate for 7/13/2022</td>\n",
       "    </tr>\n",
       "    <tr>\n",
       "      <th>3</th>\n",
       "      <td>7/14/2022</td>\n",
       "      <td>Thursday</td>\n",
       "      <td>15,045.60000 IDR</td>\n",
       "      <td>USD IDR rate for 7/14/2022</td>\n",
       "    </tr>\n",
       "    <tr>\n",
       "      <th>4</th>\n",
       "      <td>7/15/2022</td>\n",
       "      <td>Friday</td>\n",
       "      <td>14,996.35000 IDR</td>\n",
       "      <td>USD IDR rate for 7/15/2022</td>\n",
       "    </tr>\n",
       "    <tr>\n",
       "      <th>...</th>\n",
       "      <td>...</td>\n",
       "      <td>...</td>\n",
       "      <td>...</td>\n",
       "      <td>...</td>\n",
       "    </tr>\n",
       "    <tr>\n",
       "      <th>125</th>\n",
       "      <td>1/2/2023</td>\n",
       "      <td>Monday</td>\n",
       "      <td>15,554.00000 IDR</td>\n",
       "      <td>USD IDR rate for 1/2/2023</td>\n",
       "    </tr>\n",
       "    <tr>\n",
       "      <th>126</th>\n",
       "      <td>1/3/2023</td>\n",
       "      <td>Tuesday</td>\n",
       "      <td>15,594.30000 IDR</td>\n",
       "      <td>USD IDR rate for 1/3/2023</td>\n",
       "    </tr>\n",
       "    <tr>\n",
       "      <th>127</th>\n",
       "      <td>1/4/2023</td>\n",
       "      <td>Wednesday</td>\n",
       "      <td>15,581.95000 IDR</td>\n",
       "      <td>USD IDR rate for 1/4/2023</td>\n",
       "    </tr>\n",
       "    <tr>\n",
       "      <th>128</th>\n",
       "      <td>1/5/2023</td>\n",
       "      <td>Thursday</td>\n",
       "      <td>15,635.20000 IDR</td>\n",
       "      <td>USD IDR rate for 1/5/2023</td>\n",
       "    </tr>\n",
       "    <tr>\n",
       "      <th>129</th>\n",
       "      <td>1/6/2023</td>\n",
       "      <td>Friday</td>\n",
       "      <td>15,607.20000 IDR</td>\n",
       "      <td>USD IDR rate for 1/6/2023</td>\n",
       "    </tr>\n",
       "  </tbody>\n",
       "</table>\n",
       "<p>130 rows × 4 columns</p>\n",
       "</div>"
      ],
      "text/plain": [
       "       Tanggal       Hari      Harga_Harian                  Keterangan\n",
       "0    7/11/2022     Monday  15,010.52059 IDR  USD IDR rate for 7/11/2022\n",
       "1    7/12/2022    Tuesday  14,984.00000 IDR  USD IDR rate for 7/12/2022\n",
       "2    7/13/2022  Wednesday  15,030.45000 IDR  USD IDR rate for 7/13/2022\n",
       "3    7/14/2022   Thursday  15,045.60000 IDR  USD IDR rate for 7/14/2022\n",
       "4    7/15/2022     Friday  14,996.35000 IDR  USD IDR rate for 7/15/2022\n",
       "..         ...        ...               ...                         ...\n",
       "125   1/2/2023     Monday  15,554.00000 IDR   USD IDR rate for 1/2/2023\n",
       "126   1/3/2023    Tuesday  15,594.30000 IDR   USD IDR rate for 1/3/2023\n",
       "127   1/4/2023  Wednesday  15,581.95000 IDR   USD IDR rate for 1/4/2023\n",
       "128   1/5/2023   Thursday  15,635.20000 IDR   USD IDR rate for 1/5/2023\n",
       "129   1/6/2023     Friday  15,607.20000 IDR   USD IDR rate for 1/6/2023\n",
       "\n",
       "[130 rows x 4 columns]"
      ]
     },
     "execution_count": 10,
     "metadata": {},
     "output_type": "execute_result"
    }
   ],
   "source": [
    "import pandas as pd\n",
    "df = pd.DataFrame(rows, columns = ['Tanggal','Hari','Harga_Harian','Keterangan'])\n",
    "df"
   ]
  },
  {
   "cell_type": "code",
   "execution_count": 11,
   "id": "594f1196",
   "metadata": {},
   "outputs": [
    {
     "data": {
      "text/html": [
       "<div>\n",
       "<style scoped>\n",
       "    .dataframe tbody tr th:only-of-type {\n",
       "        vertical-align: middle;\n",
       "    }\n",
       "\n",
       "    .dataframe tbody tr th {\n",
       "        vertical-align: top;\n",
       "    }\n",
       "\n",
       "    .dataframe thead th {\n",
       "        text-align: right;\n",
       "    }\n",
       "</style>\n",
       "<table border=\"1\" class=\"dataframe\">\n",
       "  <thead>\n",
       "    <tr style=\"text-align: right;\">\n",
       "      <th></th>\n",
       "      <th>Tanggal</th>\n",
       "      <th>Hari</th>\n",
       "      <th>Harga_Harian</th>\n",
       "      <th>Keterangan</th>\n",
       "    </tr>\n",
       "  </thead>\n",
       "  <tbody>\n",
       "    <tr>\n",
       "      <th>0</th>\n",
       "      <td>7/11/2022</td>\n",
       "      <td>Monday</td>\n",
       "      <td>15,010.52059 IDR</td>\n",
       "      <td>USD IDR rate for 7/11/2022</td>\n",
       "    </tr>\n",
       "    <tr>\n",
       "      <th>1</th>\n",
       "      <td>7/12/2022</td>\n",
       "      <td>Tuesday</td>\n",
       "      <td>14,984.00000 IDR</td>\n",
       "      <td>USD IDR rate for 7/12/2022</td>\n",
       "    </tr>\n",
       "    <tr>\n",
       "      <th>2</th>\n",
       "      <td>7/13/2022</td>\n",
       "      <td>Wednesday</td>\n",
       "      <td>15,030.45000 IDR</td>\n",
       "      <td>USD IDR rate for 7/13/2022</td>\n",
       "    </tr>\n",
       "    <tr>\n",
       "      <th>3</th>\n",
       "      <td>7/14/2022</td>\n",
       "      <td>Thursday</td>\n",
       "      <td>15,045.60000 IDR</td>\n",
       "      <td>USD IDR rate for 7/14/2022</td>\n",
       "    </tr>\n",
       "    <tr>\n",
       "      <th>4</th>\n",
       "      <td>7/15/2022</td>\n",
       "      <td>Friday</td>\n",
       "      <td>14,996.35000 IDR</td>\n",
       "      <td>USD IDR rate for 7/15/2022</td>\n",
       "    </tr>\n",
       "  </tbody>\n",
       "</table>\n",
       "</div>"
      ],
      "text/plain": [
       "     Tanggal       Hari      Harga_Harian                  Keterangan\n",
       "0  7/11/2022     Monday  15,010.52059 IDR  USD IDR rate for 7/11/2022\n",
       "1  7/12/2022    Tuesday  14,984.00000 IDR  USD IDR rate for 7/12/2022\n",
       "2  7/13/2022  Wednesday  15,030.45000 IDR  USD IDR rate for 7/13/2022\n",
       "3  7/14/2022   Thursday  15,045.60000 IDR  USD IDR rate for 7/14/2022\n",
       "4  7/15/2022     Friday  14,996.35000 IDR  USD IDR rate for 7/15/2022"
      ]
     },
     "execution_count": 11,
     "metadata": {},
     "output_type": "execute_result"
    }
   ],
   "source": [
    "df.head()"
   ]
  },
  {
   "cell_type": "code",
   "execution_count": 12,
   "id": "d20c2459",
   "metadata": {},
   "outputs": [
    {
     "data": {
      "text/plain": [
       "Tanggal         object\n",
       "Hari            object\n",
       "Harga_Harian    object\n",
       "Keterangan      object\n",
       "dtype: object"
      ]
     },
     "execution_count": 12,
     "metadata": {},
     "output_type": "execute_result"
    }
   ],
   "source": [
    "df.dtypes"
   ]
  },
  {
   "cell_type": "markdown",
   "id": "faf75e52",
   "metadata": {},
   "source": [
    "Terdapat kolom data dengan tipe yang masih belum sesuai. Kolom tanggal seharusnya mempunyai tipe data datetime, dan harga harian mempunyai tipe data float."
   ]
  },
  {
   "cell_type": "code",
   "execution_count": 13,
   "id": "4f70ef85",
   "metadata": {},
   "outputs": [
    {
     "data": {
      "text/plain": [
       "Tanggal         datetime64[ns]\n",
       "Hari                    object\n",
       "Harga_Harian            object\n",
       "Keterangan              object\n",
       "dtype: object"
      ]
     },
     "execution_count": 13,
     "metadata": {},
     "output_type": "execute_result"
    }
   ],
   "source": [
    "df['Tanggal'] = pd.to_datetime(df['Tanggal'])\n",
    "df.dtypes"
   ]
  },
  {
   "cell_type": "code",
   "execution_count": 14,
   "id": "00ddc94f",
   "metadata": {},
   "outputs": [
    {
     "data": {
      "text/html": [
       "<div>\n",
       "<style scoped>\n",
       "    .dataframe tbody tr th:only-of-type {\n",
       "        vertical-align: middle;\n",
       "    }\n",
       "\n",
       "    .dataframe tbody tr th {\n",
       "        vertical-align: top;\n",
       "    }\n",
       "\n",
       "    .dataframe thead th {\n",
       "        text-align: right;\n",
       "    }\n",
       "</style>\n",
       "<table border=\"1\" class=\"dataframe\">\n",
       "  <thead>\n",
       "    <tr style=\"text-align: right;\">\n",
       "      <th></th>\n",
       "      <th>Tanggal</th>\n",
       "      <th>Hari</th>\n",
       "      <th>Harga_Harian</th>\n",
       "      <th>Keterangan</th>\n",
       "    </tr>\n",
       "  </thead>\n",
       "  <tbody>\n",
       "    <tr>\n",
       "      <th>0</th>\n",
       "      <td>2022-07-11</td>\n",
       "      <td>Monday</td>\n",
       "      <td>15010.52059</td>\n",
       "      <td>USD IDR rate for 7/11/2022</td>\n",
       "    </tr>\n",
       "    <tr>\n",
       "      <th>1</th>\n",
       "      <td>2022-07-12</td>\n",
       "      <td>Tuesday</td>\n",
       "      <td>14984.00000</td>\n",
       "      <td>USD IDR rate for 7/12/2022</td>\n",
       "    </tr>\n",
       "    <tr>\n",
       "      <th>2</th>\n",
       "      <td>2022-07-13</td>\n",
       "      <td>Wednesday</td>\n",
       "      <td>15030.45000</td>\n",
       "      <td>USD IDR rate for 7/13/2022</td>\n",
       "    </tr>\n",
       "    <tr>\n",
       "      <th>3</th>\n",
       "      <td>2022-07-14</td>\n",
       "      <td>Thursday</td>\n",
       "      <td>15045.60000</td>\n",
       "      <td>USD IDR rate for 7/14/2022</td>\n",
       "    </tr>\n",
       "    <tr>\n",
       "      <th>4</th>\n",
       "      <td>2022-07-15</td>\n",
       "      <td>Friday</td>\n",
       "      <td>14996.35000</td>\n",
       "      <td>USD IDR rate for 7/15/2022</td>\n",
       "    </tr>\n",
       "  </tbody>\n",
       "</table>\n",
       "</div>"
      ],
      "text/plain": [
       "     Tanggal       Hari  Harga_Harian                  Keterangan\n",
       "0 2022-07-11     Monday  15010.52059   USD IDR rate for 7/11/2022\n",
       "1 2022-07-12    Tuesday  14984.00000   USD IDR rate for 7/12/2022\n",
       "2 2022-07-13  Wednesday  15030.45000   USD IDR rate for 7/13/2022\n",
       "3 2022-07-14   Thursday  15045.60000   USD IDR rate for 7/14/2022\n",
       "4 2022-07-15     Friday  14996.35000   USD IDR rate for 7/15/2022"
      ]
     },
     "execution_count": 14,
     "metadata": {},
     "output_type": "execute_result"
    }
   ],
   "source": [
    "df['Harga_Harian'] = df['Harga_Harian'].str.replace('IDR', '')\n",
    "df['Harga_Harian'] = df['Harga_Harian'].str.replace(',', '')\n",
    "df.head()"
   ]
  },
  {
   "cell_type": "code",
   "execution_count": 15,
   "id": "8c26042a",
   "metadata": {},
   "outputs": [
    {
     "name": "stdout",
     "output_type": "stream",
     "text": [
      "<class 'pandas.core.frame.DataFrame'>\n",
      "RangeIndex: 130 entries, 0 to 129\n",
      "Data columns (total 4 columns):\n",
      " #   Column        Non-Null Count  Dtype         \n",
      "---  ------        --------------  -----         \n",
      " 0   Tanggal       130 non-null    datetime64[ns]\n",
      " 1   Hari          130 non-null    object        \n",
      " 2   Harga_Harian  130 non-null    float64       \n",
      " 3   Keterangan    130 non-null    object        \n",
      "dtypes: datetime64[ns](1), float64(1), object(2)\n",
      "memory usage: 4.2+ KB\n"
     ]
    }
   ],
   "source": [
    "df['Harga_Harian'] = df['Harga_Harian'].astype(float)\n",
    "df.info()"
   ]
  },
  {
   "cell_type": "code",
   "execution_count": 16,
   "id": "8b3aa295",
   "metadata": {},
   "outputs": [
    {
     "name": "stdout",
     "output_type": "stream",
     "text": [
      "<class 'pandas.core.frame.DataFrame'>\n",
      "RangeIndex: 130 entries, 0 to 129\n",
      "Data columns (total 2 columns):\n",
      " #   Column        Non-Null Count  Dtype         \n",
      "---  ------        --------------  -----         \n",
      " 0   Tanggal       130 non-null    datetime64[ns]\n",
      " 1   Harga_Harian  130 non-null    float64       \n",
      "dtypes: datetime64[ns](1), float64(1)\n",
      "memory usage: 2.2 KB\n"
     ]
    }
   ],
   "source": [
    "rupiah=df.loc[:, ['Tanggal','Harga_Harian']]\n",
    "rupiah.info()"
   ]
  },
  {
   "cell_type": "markdown",
   "id": "60ee4764",
   "metadata": {},
   "source": [
    "### Data Visualization"
   ]
  },
  {
   "cell_type": "code",
   "execution_count": 17,
   "id": "61a16a08",
   "metadata": {},
   "outputs": [
    {
     "data": {
      "image/png": "[encoded data removed]",
      "text/plain": [
       "<Figure size 640x480 with 1 Axes>"
      ]
     },
     "metadata": {},
     "output_type": "display_data"
    }
   ],
   "source": [
    "import matplotlib.pyplot as plt\n",
    "import matplotlib.dates as mdates\n",
    "\n",
    "x= rupiah['Tanggal']\n",
    "y= rupiah['Harga_Harian']\n",
    "\n",
    "plt.gca().xaxis.set_major_formatter(mdates.DateFormatter('%m/%d/%Y'))\n",
    "plt.gca().xaxis.set_major_locator(mdates.MonthLocator(interval=1))\n",
    "plt.plot(x,y)\n",
    "plt.title('Indonesian Rupiahs(IDR) per US Dollar(USD)', fontsize=15, loc='center')\n",
    "plt.xlabel(\"Tanggal\")\n",
    "plt.ylabel(\"Harga Harian(IDR)\")\n",
    "plt.gcf().autofmt_xdate()"
   ]
  },
  {
   "cell_type": "code",
   "execution_count": 18,
   "id": "37a0133a",
   "metadata": {},
   "outputs": [
    {
     "data": {
      "text/html": [
       "<div>\n",
       "<style scoped>\n",
       "    .dataframe tbody tr th:only-of-type {\n",
       "        vertical-align: middle;\n",
       "    }\n",
       "\n",
       "    .dataframe tbody tr th {\n",
       "        vertical-align: top;\n",
       "    }\n",
       "\n",
       "    .dataframe thead th {\n",
       "        text-align: right;\n",
       "    }\n",
       "</style>\n",
       "<table border=\"1\" class=\"dataframe\">\n",
       "  <thead>\n",
       "    <tr style=\"text-align: right;\">\n",
       "      <th></th>\n",
       "      <th>Harga_Harian</th>\n",
       "    </tr>\n",
       "  </thead>\n",
       "  <tbody>\n",
       "    <tr>\n",
       "      <th>count</th>\n",
       "      <td>130.000000</td>\n",
       "    </tr>\n",
       "    <tr>\n",
       "      <th>mean</th>\n",
       "      <td>15267.935393</td>\n",
       "    </tr>\n",
       "    <tr>\n",
       "      <th>std</th>\n",
       "      <td>340.052650</td>\n",
       "    </tr>\n",
       "    <tr>\n",
       "      <th>min</th>\n",
       "      <td>14661.076160</td>\n",
       "    </tr>\n",
       "    <tr>\n",
       "      <th>25%</th>\n",
       "      <td>14913.312500</td>\n",
       "    </tr>\n",
       "    <tr>\n",
       "      <th>50%</th>\n",
       "      <td>15311.175000</td>\n",
       "    </tr>\n",
       "    <tr>\n",
       "      <th>75%</th>\n",
       "      <td>15594.262500</td>\n",
       "    </tr>\n",
       "    <tr>\n",
       "      <th>max</th>\n",
       "      <td>15790.000000</td>\n",
       "    </tr>\n",
       "  </tbody>\n",
       "</table>\n",
       "</div>"
      ],
      "text/plain": [
       "       Harga_Harian\n",
       "count    130.000000\n",
       "mean   15267.935393\n",
       "std      340.052650\n",
       "min    14661.076160\n",
       "25%    14913.312500\n",
       "50%    15311.175000\n",
       "75%    15594.262500\n",
       "max    15790.000000"
      ]
     },
     "execution_count": 18,
     "metadata": {},
     "output_type": "execute_result"
    }
   ],
   "source": [
    "rupiah.describe()"
   ]
  },
  {
   "cell_type": "code",
   "execution_count": 19,
   "id": "532b3d57",
   "metadata": {},
   "outputs": [
    {
     "data": {
      "text/plain": [
       "Tanggal         2022-07-11 00:00:00\n",
       "Harga_Harian            14661.07616\n",
       "dtype: object"
      ]
     },
     "execution_count": 19,
     "metadata": {},
     "output_type": "execute_result"
    }
   ],
   "source": [
    "#Nilai Rupiah paling rendah\n",
    "rupiah.min()\n"
   ]
  },
  {
   "cell_type": "code",
   "execution_count": 20,
   "id": "66b69d2f",
   "metadata": {},
   "outputs": [
    {
     "data": {
      "text/plain": [
       "Tanggal         2023-01-06 00:00:00\n",
       "Harga_Harian                15790.0\n",
       "dtype: object"
      ]
     },
     "execution_count": 20,
     "metadata": {},
     "output_type": "execute_result"
    }
   ],
   "source": [
    "#Nilai Rupiah paling tinggi\n",
    "rupiah.max()"
   ]
  },
  {
   "cell_type": "markdown",
   "id": "79b73e9d",
   "metadata": {},
   "source": [
    "## Conclusion\n",
    "\n",
    "Grafik pergerakan kurs harga Indonesian Rupiahs terhadap US Dollar menunjukkan kenaikan pada rentang bulan September 2022  hingga awal tahun 2023. Harga IDR paling tinggi terdapat di bulan Januari 2023, sementara harga IDR paling rendah terdapat pada bulan Juli,2022. Kenaikan harga rupiah adalah indikasi bahwa nilai mata uang Indonesia semakin melemah terhadap nilai mata uang USD. Fenomena ini dapat disebabkan oleh berbagai faktor seperti inflasi, naiknya suku bunga acuan US dan situasi perdagangan global."
   ]
  },
  {
   "cell_type": "code",
   "execution_count": null,
   "id": "bc46436e",
   "metadata": {},
   "outputs": [],
   "source": []
  }
 ],
 "metadata": {
  "kernelspec": {
   "display_name": "capstonebs",
   "language": "python",
   "name": "capstonebs"
  },
  "language_info": {
   "codemirror_mode": {
    "name": "ipython",
    "version": 3
   },
   "file_extension": ".py",
   "mimetype": "text/x-python",
   "name": "python",
   "nbconvert_exporter": "python",
   "pygments_lexer": "ipython3",
   "version": "3.10.8"
  }
 },
 "nbformat": 4,
 "nbformat_minor": 5
}
